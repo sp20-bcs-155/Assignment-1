{
  "nbformat": 4,
  "nbformat_minor": 0,
  "metadata": {
    "colab": {
      "provenance": [],
      "collapsed_sections": []
    },
    "kernelspec": {
      "name": "python3",
      "display_name": "Python 3"
    },
    "language_info": {
      "name": "python"
    }
  },
  "cells": [
    {
      "cell_type": "code",
      "execution_count": 2,
      "metadata": {
        "id": "e1i8IV7gSQrY"
      },
      "outputs": [],
      "source": [
        "from google.colab import drive"
      ]
    },
    {
      "cell_type": "code",
      "source": [
        "drive.mount('/content/gdrive')"
      ],
      "metadata": {
        "colab": {
          "base_uri": "https://localhost:8080/"
        },
        "id": "8NtGs44qTCV4",
        "outputId": "3f3f019f-8344-49f3-ab7d-138cdde33f65"
      },
      "execution_count": 3,
      "outputs": [
        {
          "output_type": "stream",
          "name": "stdout",
          "text": [
            "Mounted at /content/gdrive\n"
          ]
        }
      ]
    },
    {
      "cell_type": "code",
      "source": [
        "import pandas as pd\n",
        "import re\n",
        "import matplotlib.pyplot as plt\n",
        "import seaborn as sns\n",
        "import numpy as np"
      ],
      "metadata": {
        "id": "O027BJW-TwKg"
      },
      "execution_count": 5,
      "outputs": []
    },
    {
      "cell_type": "code",
      "source": [
        "dataset = pd.read_csv(r'/content/gdrive/MyDrive/the-hello-dataset-fa22.csv')"
      ],
      "metadata": {
        "id": "HDfj3S2kUHjv"
      },
      "execution_count": 6,
      "outputs": []
    },
    {
      "cell_type": "code",
      "source": [
        "#Plot line chart of students and their birth months.\n",
        "plt.figure(figsize=(25, 50))\n",
        "x=dataset[\"Name\"]\n",
        "y=dataset[\"BirthMonth\"]\n",
        "\n",
        "plt.plot(y, x)\n",
        "plt.title(\"Name and Birth Month\",fontsize=14)\n",
        "plt.xlabel(\"Months\",fontsize=14)\n",
        "plt.ylabel(\"Name\",fontsize=14)\n",
        "plt.show()"
      ],
      "metadata": {
        "id": "As10rjAMV15A"
      },
      "execution_count": null,
      "outputs": []
    },
    {
      "cell_type": "code",
      "source": [
        "#Plot the CGPA of all male students on a histogram with intervals 2.0-2.5, 2.6-3.0, 3.1-3.5, 3.6-4.0\n",
        "cgpa = dataset[['Gender','CGPA']]\n",
        "\n",
        "\n",
        "plt.hist(cgpa,4,(2,4))\n",
        "plt.show()"
      ],
      "metadata": {
        "id": "mdM49hlhgdUI"
      },
      "execution_count": null,
      "outputs": []
    },
    {
      "cell_type": "code",
      "source": [
        "#Print the list of all students whose first name starts with letter the 'H'\n",
        "import re\n",
        "from re import findall\n",
        "\n",
        "reg = \"([H][a-z]+)[\\s-]([A-Z][a-z]*)\"\n",
        "\n",
        "with open(\"/content/gdrive/MyDrive/the-hello-dataset-fa22.csv\",\"r\")as file:\n",
        "    data=file.read()\n",
        "    search=findall(reg,data)\n",
        "\n",
        "print (search)\n"
      ],
      "metadata": {
        "id": "icukcvA4vKEg",
        "colab": {
          "base_uri": "https://localhost:8080/"
        },
        "outputId": "d7053502-8278-422a-dcd3-d939c5f3dac5"
      },
      "execution_count": 36,
      "outputs": [
        {
          "output_type": "stream",
          "name": "stdout",
          "text": [
            "[('Hamza', 'Naveed'), ('Hassaan', 'Lateef'), ('Habib', 'Ullah'), ('Hunain', 'Javed'), ('Hafeez', 'Khan'), ('Hashir', 'Azeem'), ('Hafiz', 'Malahim'), ('Hammad', 'Ejaz'), ('Hamza', 'Imran'), ('Hadi', 'Khan'), ('Hamza', 'Javed'), ('Husnain', 'Ahmed'), ('Hamayoun', 'Masroor'), ('Huzaifa', 'Jawad'), ('Hassan', 'Khan')]\n"
          ]
        }
      ]
    },
    {
      "cell_type": "code",
      "source": [
        "#Print the total number of students who have a three words name (first-middle-surname).\n",
        "from re import findall\n",
        "\n",
        "reg = \"([A-Z][a-z]*)[\\s-]([A-Z][a-z]*)[\\s-]([A-Z][a-z]*)\"\n",
        "\n",
        "with open(\"/content/gdrive/MyDrive/the-hello-dataset-fa22.csv\",\"r\")as file:\n",
        "    data=file.read()\n",
        "    search=findall(reg,data)\n",
        "\n",
        "print (search)"
      ],
      "metadata": {
        "colab": {
          "base_uri": "https://localhost:8080/"
        },
        "id": "Bnon2n4-mOYv",
        "outputId": "3ce63238-407b-40ca-db7c-1d5bd9b8a9e4"
      },
      "execution_count": 38,
      "outputs": [
        {
          "output_type": "stream",
          "name": "stdout",
          "text": [
            "[('Weight', 'Muhammad', 'Usman'), ('Syeda', 'Maham', 'Gillani'), ('Shahzada', 'Mujahid', 'Raza'), ('Muhammad', 'Subhan', 'Khan'), ('M', 'Hassaan', 'Lateef'), ('Ahmed', 'Amjad', 'Dar'), ('Muhammad', 'Ibrahim', 'Khalil'), ('Ahmar', 'Hafeez', 'Khan'), ('Muhammad', 'Umar', 'Asghar'), ('Abdul', 'Mateen', 'Alam'), ('Muhammad', 'Ammar', 'Khalid'), ('Osama', 'Nadeem', 'Khan'), ('Muhammad', 'Hashir', 'Azeem'), ('Muhammad', 'Aun', 'Raza'), ('Syeda', 'Noor', 'Zehra'), ('Hafiz', 'Malahim', 'Labib'), ('Bashara', 'Tehseen', 'Liaqat'), ('Muhammad', 'Hammad', 'Ejaz'), ('Syed', 'Muhammad', 'Hamza'), ('Muhammad', 'Al', 'Fahad'), ('Syed', 'Ali', 'Raza'), ('Abdul', 'Hadi', 'Khan'), ('Hamza', 'Javed', 'Khan'), ('Syed', 'Muhammad', 'Ali'), ('Salman', 'Wasi', 'Ahmad'), ('Muhammad', 'Azeem', 'Shoukat'), ('Muhammad', 'Nouman', 'Tahir'), ('Muhammad', 'Huzaifa', 'Jawad'), ('Muhammad', 'Asadullah', 'Rind'), ('Muhammad', 'Talha', 'Saeed'), ('Muhammad', 'Bilal', 'Aslam'), ('Syed', 'Ali', 'Mehdi'), ('Aftab', 'Ahmad', 'Khan'), ('Syed', 'Zain', 'Raza'), ('Mutyyab', 'Ul', 'Hassan'), ('Muhammad', 'Umair', 'Tariq'), ('M', 'Abubakar', 'Malik')]\n"
          ]
        }
      ]
    },
    {
      "cell_type": "code",
      "source": [
        "#Create a correlation matrix between HSSC-1 and HSSC-2 marks and then plot on a heatmap.\n",
        "marks = dataset[[\"HSSC-1\", \"HSSC-2\"]]\n",
        "marks.corr()\n",
        "heatmap = sns.heatmap(marks.corr())\n",
        "heatmap.set_title('Marks Correlation Heatmap');"
      ],
      "metadata": {
        "id": "x9Rt5dZPunu1"
      },
      "execution_count": null,
      "outputs": []
    },
    {
      "cell_type": "code",
      "source": [
        "#Plot the favorite colors of male vs female students on a bar chart\n",
        "plt.figure(figsize=(50, 30))\n",
        "bars = dataset['Gender']\n",
        "bars2 = dataset['FavoriteColor']\n",
        "plt.bar(bars,bars2)\n",
        "plt.xlabel(\"Gender\")\n",
        "plt.ylabel(\"Favorite color\")\n",
        "plt.show()"
      ],
      "metadata": {
        "id": "SCdz7d2phBsG"
      },
      "execution_count": null,
      "outputs": []
    },
    {
      "cell_type": "code",
      "source": [
        "#Print the percentage of students who have a CGPA of 3.0 or above\n",
        "from re import findall\n",
        "\n",
        "reg = \"^[0-4][.][0-9][0-9]$\"\n",
        "\n",
        "with open(\"/content/gdrive/MyDrive/the-hello-dataset-fa22.csv\",\"r\")as file:\n",
        "     data=file.read()\n",
        "      search=findall(reg,data)\n",
        "    for row in data:\n",
        "      if search in row[4]:\n",
        "    print (row)"
      ],
      "metadata": {
        "id": "1Q1vpleenU2l"
      },
      "execution_count": null,
      "outputs": []
    }
  ]
}